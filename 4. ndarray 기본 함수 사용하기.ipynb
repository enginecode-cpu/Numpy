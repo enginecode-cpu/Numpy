{
 "cells": [
  {
   "cell_type": "code",
   "execution_count": 1,
   "metadata": {},
   "outputs": [],
   "source": [
    "import numpy as np"
   ]
  },
  {
   "cell_type": "code",
   "execution_count": 2,
   "metadata": {},
   "outputs": [],
   "source": [
    "x = np.arange(15).reshape(3, 5)\n",
    "y = np.random.rand(15).reshape(3, 5)"
   ]
  },
  {
   "cell_type": "code",
   "execution_count": 3,
   "metadata": {},
   "outputs": [
    {
     "name": "stdout",
     "output_type": "stream",
     "text": [
      "[[ 0  1  2  3  4]\n",
      " [ 5  6  7  8  9]\n",
      " [10 11 12 13 14]]\n"
     ]
    }
   ],
   "source": [
    "print(x)"
   ]
  },
  {
   "cell_type": "code",
   "execution_count": 4,
   "metadata": {},
   "outputs": [
    {
     "name": "stdout",
     "output_type": "stream",
     "text": [
      "[[0.08004878 0.49952427 0.95719272 0.30421188 0.03746489]\n",
      " [0.95239873 0.27482045 0.30771433 0.18530375 0.67820482]\n",
      " [0.21577679 0.27229329 0.66358926 0.68500376 0.70823914]]\n"
     ]
    }
   ],
   "source": [
    "print(y)"
   ]
  },
  {
   "cell_type": "markdown",
   "metadata": {},
   "source": [
    "### 연산 함수\n",
    "- add, substract, multiply, divide"
   ]
  },
  {
   "cell_type": "code",
   "execution_count": 5,
   "metadata": {},
   "outputs": [
    {
     "data": {
      "text/plain": [
       "array([[ 0.08004878,  1.49952427,  2.95719272,  3.30421188,  4.03746489],\n",
       "       [ 5.95239873,  6.27482045,  7.30771433,  8.18530375,  9.67820482],\n",
       "       [10.21577679, 11.27229329, 12.66358926, 13.68500376, 14.70823914]])"
      ]
     },
     "execution_count": 5,
     "metadata": {},
     "output_type": "execute_result"
    }
   ],
   "source": [
    "# 행렬의 덧셈\n",
    "\n",
    "np.add(x, y) "
   ]
  },
  {
   "cell_type": "code",
   "execution_count": 6,
   "metadata": {},
   "outputs": [
    {
     "data": {
      "text/plain": [
       "array([[-0.08004878,  0.50047573,  1.04280728,  2.69578812,  3.96253511],\n",
       "       [ 4.04760127,  5.72517955,  6.69228567,  7.81469625,  8.32179518],\n",
       "       [ 9.78422321, 10.72770671, 11.33641074, 12.31499624, 13.29176086]])"
      ]
     },
     "execution_count": 6,
     "metadata": {},
     "output_type": "execute_result"
    }
   ],
   "source": [
    "# 행렬의 뺄셈\n",
    "\n",
    "np.subtract(x, y) "
   ]
  },
  {
   "cell_type": "code",
   "execution_count": 7,
   "metadata": {},
   "outputs": [
    {
     "data": {
      "text/plain": [
       "array([[0.        , 0.49952427, 1.91438545, 0.91263565, 0.14985954],\n",
       "       [4.76199363, 1.64892271, 2.1540003 , 1.48242997, 6.10384335],\n",
       "       [2.15776786, 2.99522614, 7.96307113, 8.90504885, 9.91534792]])"
      ]
     },
     "execution_count": 7,
     "metadata": {},
     "output_type": "execute_result"
    }
   ],
   "source": [
    "# 행렬의 곱셈\n",
    "\n",
    "np.multiply(x, y)"
   ]
  },
  {
   "cell_type": "code",
   "execution_count": 8,
   "metadata": {},
   "outputs": [
    {
     "data": {
      "text/plain": [
       "array([[  0.        ,   2.00190472,   2.08944338,   9.86154775,\n",
       "        106.76664027],\n",
       "       [  5.24990203,  21.83243632,  22.74837196,  43.17235991,\n",
       "         13.27032745],\n",
       "       [ 46.34418829,  40.39761746,  18.08347528,  18.97799808,\n",
       "         19.76733459]])"
      ]
     },
     "execution_count": 8,
     "metadata": {},
     "output_type": "execute_result"
    }
   ],
   "source": [
    "# 행렬의 나눗셈\n",
    "\n",
    "np.divide(x, y)"
   ]
  },
  {
   "cell_type": "code",
   "execution_count": 9,
   "metadata": {},
   "outputs": [
    {
     "data": {
      "text/plain": [
       "(array([[  0.,   2.,   2.,   9., 106.],\n",
       "        [  5.,  21.,  22.,  43.,  13.],\n",
       "        [ 46.,  40.,  18.,  18.,  19.]]),\n",
       " array([[0.        , 0.00095146, 0.08561455, 0.26209306, 0.02872209],\n",
       "        [0.23800637, 0.22877052, 0.23028478, 0.03193894, 0.18333738],\n",
       "        [0.07426784, 0.10826856, 0.0553933 , 0.66993236, 0.54345639]]))"
      ]
     },
     "execution_count": 9,
     "metadata": {},
     "output_type": "execute_result"
    }
   ],
   "source": [
    "# 행렬의 몫과 나머지\n",
    "\n",
    "np.divmod(x, y)"
   ]
  },
  {
   "cell_type": "code",
   "execution_count": 10,
   "metadata": {},
   "outputs": [
    {
     "data": {
      "text/plain": [
       "array([[ 0.08004878,  1.49952427,  2.95719272,  3.30421188,  4.03746489],\n",
       "       [ 5.95239873,  6.27482045,  7.30771433,  8.18530375,  9.67820482],\n",
       "       [10.21577679, 11.27229329, 12.66358926, 13.68500376, 14.70823914]])"
      ]
     },
     "execution_count": 10,
     "metadata": {},
     "output_type": "execute_result"
    }
   ],
   "source": [
    "x + y"
   ]
  },
  {
   "cell_type": "code",
   "execution_count": 11,
   "metadata": {},
   "outputs": [
    {
     "data": {
      "text/plain": [
       "array([[-0.08004878,  0.50047573,  1.04280728,  2.69578812,  3.96253511],\n",
       "       [ 4.04760127,  5.72517955,  6.69228567,  7.81469625,  8.32179518],\n",
       "       [ 9.78422321, 10.72770671, 11.33641074, 12.31499624, 13.29176086]])"
      ]
     },
     "execution_count": 11,
     "metadata": {},
     "output_type": "execute_result"
    }
   ],
   "source": [
    "x - y"
   ]
  },
  {
   "cell_type": "code",
   "execution_count": 12,
   "metadata": {},
   "outputs": [
    {
     "data": {
      "text/plain": [
       "array([[0.        , 0.49952427, 1.91438545, 0.91263565, 0.14985954],\n",
       "       [4.76199363, 1.64892271, 2.1540003 , 1.48242997, 6.10384335],\n",
       "       [2.15776786, 2.99522614, 7.96307113, 8.90504885, 9.91534792]])"
      ]
     },
     "execution_count": 12,
     "metadata": {},
     "output_type": "execute_result"
    }
   ],
   "source": [
    "x * y"
   ]
  },
  {
   "cell_type": "code",
   "execution_count": 13,
   "metadata": {},
   "outputs": [
    {
     "data": {
      "text/plain": [
       "array([[  0.        ,   2.00190472,   2.08944338,   9.86154775,\n",
       "        106.76664027],\n",
       "       [  5.24990203,  21.83243632,  22.74837196,  43.17235991,\n",
       "         13.27032745],\n",
       "       [ 46.34418829,  40.39761746,  18.08347528,  18.97799808,\n",
       "         19.76733459]])"
      ]
     },
     "execution_count": 13,
     "metadata": {},
     "output_type": "execute_result"
    }
   ],
   "source": [
    "x / y"
   ]
  },
  {
   "cell_type": "code",
   "execution_count": 14,
   "metadata": {},
   "outputs": [
    {
     "data": {
      "text/plain": [
       "array([[  0.,   2.,   2.,   9., 106.],\n",
       "       [  5.,  21.,  22.,  43.,  13.],\n",
       "       [ 46.,  40.,  18.,  18.,  19.]])"
      ]
     },
     "execution_count": 14,
     "metadata": {},
     "output_type": "execute_result"
    }
   ],
   "source": [
    "x // y"
   ]
  },
  {
   "cell_type": "code",
   "execution_count": 15,
   "metadata": {},
   "outputs": [
    {
     "data": {
      "text/plain": [
       "array([[0.        , 0.00095146, 0.08561455, 0.26209306, 0.02872209],\n",
       "       [0.23800637, 0.22877052, 0.23028478, 0.03193894, 0.18333738],\n",
       "       [0.07426784, 0.10826856, 0.0553933 , 0.66993236, 0.54345639]])"
      ]
     },
     "execution_count": 15,
     "metadata": {},
     "output_type": "execute_result"
    }
   ],
   "source": [
    "x % y"
   ]
  },
  {
   "cell_type": "markdown",
   "metadata": {},
   "source": [
    "### 통계 함수\n",
    "- 평균, 분산, 중앙, 최대, 최소값 등등 통계 관련된 함수"
   ]
  },
  {
   "cell_type": "code",
   "execution_count": 16,
   "metadata": {},
   "outputs": [
    {
     "name": "stdout",
     "output_type": "stream",
     "text": [
      "[[ 0  1  2  3  4]\n",
      " [ 5  6  7  8  9]\n",
      " [10 11 12 13 14]]\n",
      "[[0.08004878 0.49952427 0.95719272 0.30421188 0.03746489]\n",
      " [0.95239873 0.27482045 0.30771433 0.18530375 0.67820482]\n",
      " [0.21577679 0.27229329 0.66358926 0.68500376 0.70823914]]\n"
     ]
    }
   ],
   "source": [
    "print(x)\n",
    "print(y)"
   ]
  },
  {
   "cell_type": "code",
   "execution_count": 17,
   "metadata": {},
   "outputs": [
    {
     "data": {
      "text/plain": [
       "7.0"
      ]
     },
     "execution_count": 17,
     "metadata": {},
     "output_type": "execute_result"
    }
   ],
   "source": [
    "np.mean(x)"
   ]
  },
  {
   "cell_type": "code",
   "execution_count": 18,
   "metadata": {},
   "outputs": [
    {
     "data": {
      "text/plain": [
       "0.45478578931009167"
      ]
     },
     "execution_count": 18,
     "metadata": {},
     "output_type": "execute_result"
    }
   ],
   "source": [
    "np.mean(y)"
   ]
  },
  {
   "cell_type": "code",
   "execution_count": 19,
   "metadata": {},
   "outputs": [
    {
     "data": {
      "text/plain": [
       "14"
      ]
     },
     "execution_count": 19,
     "metadata": {},
     "output_type": "execute_result"
    }
   ],
   "source": [
    "np.max(x)"
   ]
  },
  {
   "cell_type": "code",
   "execution_count": 20,
   "metadata": {},
   "outputs": [
    {
     "data": {
      "text/plain": [
       "0.9571927232617863"
      ]
     },
     "execution_count": 20,
     "metadata": {},
     "output_type": "execute_result"
    }
   ],
   "source": [
    "np.max(y)"
   ]
  },
  {
   "cell_type": "code",
   "execution_count": 21,
   "metadata": {},
   "outputs": [
    {
     "data": {
      "text/plain": [
       "14"
      ]
     },
     "execution_count": 21,
     "metadata": {},
     "output_type": "execute_result"
    }
   ],
   "source": [
    "# flatten한 상태에서 최댓값의 인덱스를 구한다.\n",
    "\n",
    "np.argmax(x)"
   ]
  },
  {
   "cell_type": "code",
   "execution_count": 22,
   "metadata": {},
   "outputs": [
    {
     "data": {
      "text/plain": [
       "2"
      ]
     },
     "execution_count": 22,
     "metadata": {},
     "output_type": "execute_result"
    }
   ],
   "source": [
    "np.argmax(y)"
   ]
  },
  {
   "cell_type": "code",
   "execution_count": 23,
   "metadata": {},
   "outputs": [
    {
     "data": {
      "text/plain": [
       "(18.666666666666668, 7.0, 4.320493798938574)"
      ]
     },
     "execution_count": 23,
     "metadata": {},
     "output_type": "execute_result"
    }
   ],
   "source": [
    "# 분산     중앙값        표준편차\n",
    "np.var(x), np.median(x), np.std(x)"
   ]
  },
  {
   "cell_type": "code",
   "execution_count": 24,
   "metadata": {},
   "outputs": [
    {
     "data": {
      "text/plain": [
       "(0.08447404985090776, 0.3077143283456909, 0.29064419803413893)"
      ]
     },
     "execution_count": 24,
     "metadata": {},
     "output_type": "execute_result"
    }
   ],
   "source": [
    "np.var(y), np.median(y), np.std(y)"
   ]
  },
  {
   "cell_type": "markdown",
   "metadata": {},
   "source": [
    "### 집계 함수\n",
    "- 합계, 누적합계 등을 계산"
   ]
  },
  {
   "cell_type": "code",
   "execution_count": 25,
   "metadata": {},
   "outputs": [
    {
     "data": {
      "text/plain": [
       "array([[ 0,  1,  2,  3,  4],\n",
       "       [ 5,  6,  7,  8,  9],\n",
       "       [10, 11, 12, 13, 14]])"
      ]
     },
     "execution_count": 25,
     "metadata": {},
     "output_type": "execute_result"
    }
   ],
   "source": [
    "x"
   ]
  },
  {
   "cell_type": "code",
   "execution_count": 26,
   "metadata": {},
   "outputs": [
    {
     "data": {
      "text/plain": [
       "105"
      ]
     },
     "execution_count": 26,
     "metadata": {},
     "output_type": "execute_result"
    }
   ],
   "source": [
    "# 전체 합\n",
    "\n",
    "np.sum(x)"
   ]
  },
  {
   "cell_type": "code",
   "execution_count": 27,
   "metadata": {},
   "outputs": [
    {
     "data": {
      "text/plain": [
       "array([  0,   1,   3,   6,  10,  15,  21,  28,  36,  45,  55,  66,  78,\n",
       "        91, 105], dtype=int32)"
      ]
     },
     "execution_count": 27,
     "metadata": {},
     "output_type": "execute_result"
    }
   ],
   "source": [
    "# 누적 합계\n",
    "\n",
    "np.cumsum(x)"
   ]
  },
  {
   "cell_type": "code",
   "execution_count": 28,
   "metadata": {},
   "outputs": [
    {
     "data": {
      "text/plain": [
       "array([15, 18, 21, 24, 27])"
      ]
     },
     "execution_count": 28,
     "metadata": {},
     "output_type": "execute_result"
    }
   ],
   "source": [
    "# 행을 기준으로 합을 구한다.\n",
    "\n",
    "np.sum(x, axis=0)"
   ]
  },
  {
   "cell_type": "code",
   "execution_count": 29,
   "metadata": {},
   "outputs": [
    {
     "data": {
      "text/plain": [
       "array([10, 35, 60])"
      ]
     },
     "execution_count": 29,
     "metadata": {},
     "output_type": "execute_result"
    }
   ],
   "source": [
    "# 열을 기준으로 합을 구한다.\n",
    "\n",
    "np.sum(x, axis=1)"
   ]
  },
  {
   "cell_type": "markdown",
   "metadata": {},
   "source": [
    "### `any, all`\n",
    "- `any` : 특정 조건을 만족하는 것이 하나라도 있으면 `True`, 아니면 `False`\n",
    "- `all` : 모든 원소가 특정 조건을 만족하면, `True`, 아니면 `False`"
   ]
  },
  {
   "cell_type": "code",
   "execution_count": 30,
   "metadata": {},
   "outputs": [
    {
     "name": "stdout",
     "output_type": "stream",
     "text": [
      "[-1.3486487  -0.94512177 -2.20406674 -0.33543138  0.69024245  0.97644389\n",
      " -0.90947683  2.02981678 -0.07497513 -0.33902645]\n"
     ]
    }
   ],
   "source": [
    "z = np.random.randn(10)\n",
    "print(z)"
   ]
  },
  {
   "cell_type": "code",
   "execution_count": 31,
   "metadata": {},
   "outputs": [
    {
     "data": {
      "text/plain": [
       "array([False, False, False, False,  True,  True, False,  True, False,\n",
       "       False])"
      ]
     },
     "execution_count": 31,
     "metadata": {},
     "output_type": "execute_result"
    }
   ],
   "source": [
    "z > 0"
   ]
  },
  {
   "cell_type": "code",
   "execution_count": 32,
   "metadata": {},
   "outputs": [
    {
     "data": {
      "text/plain": [
       "True"
      ]
     },
     "execution_count": 32,
     "metadata": {},
     "output_type": "execute_result"
    }
   ],
   "source": [
    "np.any(z > 0) # 각각 원소에 대해서 0과 비교"
   ]
  },
  {
   "cell_type": "code",
   "execution_count": 33,
   "metadata": {},
   "outputs": [
    {
     "data": {
      "text/plain": [
       "False"
      ]
     },
     "execution_count": 33,
     "metadata": {},
     "output_type": "execute_result"
    }
   ],
   "source": [
    "np.all(z > 0)"
   ]
  },
  {
   "cell_type": "markdown",
   "metadata": {},
   "source": [
    "### `where`\n",
    "- 조건에 따라 선별적으로 값을 선택 가능\n",
    "- 음수인 경우 0, 나머지는 그대로 값을 쓰는 경우"
   ]
  },
  {
   "cell_type": "code",
   "execution_count": 34,
   "metadata": {},
   "outputs": [],
   "source": [
    "z = np.random.randn(10)"
   ]
  },
  {
   "cell_type": "code",
   "execution_count": 35,
   "metadata": {},
   "outputs": [
    {
     "data": {
      "text/plain": [
       "array([-0.31978303,  0.94575464, -1.24173276, -1.17676788,  0.83247756,\n",
       "        0.02992686,  1.25976402, -1.02393062,  0.89450749, -1.59560752])"
      ]
     },
     "execution_count": 35,
     "metadata": {},
     "output_type": "execute_result"
    }
   ],
   "source": [
    "z"
   ]
  },
  {
   "cell_type": "code",
   "execution_count": 36,
   "metadata": {},
   "outputs": [
    {
     "data": {
      "text/plain": [
       "array([0.        , 0.94575464, 0.        , 0.        , 0.83247756,\n",
       "       0.02992686, 1.25976402, 0.        , 0.89450749, 0.        ])"
      ]
     },
     "execution_count": 36,
     "metadata": {},
     "output_type": "execute_result"
    }
   ],
   "source": [
    "np.where(z>0, z, 0)"
   ]
  }
 ],
 "metadata": {
  "kernelspec": {
   "display_name": "Python 3",
   "language": "python",
   "name": "python3"
  },
  "language_info": {
   "codemirror_mode": {
    "name": "ipython",
    "version": 3
   },
   "file_extension": ".py",
   "mimetype": "text/x-python",
   "name": "python",
   "nbconvert_exporter": "python",
   "pygments_lexer": "ipython3",
   "version": "3.7.4"
  }
 },
 "nbformat": 4,
 "nbformat_minor": 2
}
